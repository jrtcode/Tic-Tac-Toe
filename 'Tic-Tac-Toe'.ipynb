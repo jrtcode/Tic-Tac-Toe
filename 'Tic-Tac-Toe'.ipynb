{
 "cells": [
  {
   "cell_type": "code",
   "execution_count": 1,
   "metadata": {},
   "outputs": [],
   "source": [
    "import numpy as np"
   ]
  },
  {
   "cell_type": "code",
   "execution_count": 2,
   "metadata": {},
   "outputs": [],
   "source": [
    "ROW_COUNT = 3"
   ]
  },
  {
   "cell_type": "code",
   "execution_count": 3,
   "metadata": {},
   "outputs": [],
   "source": [
    "COLUMN_COUNT = 3"
   ]
  },
  {
   "cell_type": "code",
   "execution_count": 4,
   "metadata": {},
   "outputs": [],
   "source": [
    "# Functions"
   ]
  },
  {
   "cell_type": "code",
   "execution_count": 5,
   "metadata": {},
   "outputs": [],
   "source": [
    "def is_valid_location(board, selection):\n",
    "    if selection >= 7:\n",
    "        row = 0\n",
    "    elif selection >= 4 and selection <= 6:\n",
    "        row = 1\n",
    "    else:\n",
    "        row = 2\n",
    "    if selection == 7 or selection == 4 or selection == 1:\n",
    "        col = 0\n",
    "    elif selection == 8 or selection == 5 or selection == 2:\n",
    "        col = 1\n",
    "    else: \n",
    "        col = 2\n",
    "    return board[row][col] == 0"
   ]
  },
  {
   "cell_type": "code",
   "execution_count": 6,
   "metadata": {},
   "outputs": [],
   "source": [
    "def create_board():\n",
    "    board = np.zeros((ROW_COUNT , COLUMN_COUNT))\n",
    "    return board"
   ]
  },
  {
   "cell_type": "code",
   "execution_count": 7,
   "metadata": {},
   "outputs": [],
   "source": [
    "def place_piece(board, selection, piece):\n",
    "    if selection >= 7:\n",
    "        row = 0\n",
    "    elif selection >= 4 and selection <= 6:\n",
    "        row = 1\n",
    "    else:\n",
    "        row = 2\n",
    "    if selection == 7 or selection == 4 or selection == 1:\n",
    "        col = 0\n",
    "    elif selection == 8 or selection == 5 or selection == 2:\n",
    "        col = 1\n",
    "    else: \n",
    "        col = 2\n",
    "    \n",
    "    board[row][col] = piece"
   ]
  },
  {
   "cell_type": "code",
   "execution_count": 8,
   "metadata": {},
   "outputs": [],
   "source": [
    "def is_winner(board, selection, piece):\n",
    "    if selection >= 7:\n",
    "        row = 0\n",
    "    elif selection >= 4 and selection <= 6:\n",
    "        row = 1\n",
    "    else:\n",
    "        row = 2\n",
    "    if selection == 7 or selection == 4 or selection == 1:\n",
    "        col = 0\n",
    "    elif selection == 8 or selection == 5 or selection == 2:\n",
    "        col = 1\n",
    "    else: \n",
    "        col = 2\n",
    "    \n",
    "    \n",
    "    for r in range(len(board)):\n",
    "        for c in range(len(board)):\n",
    "            # Check vertical\n",
    "            if board[0][c] == piece:\n",
    "                if board[1][c] == piece:\n",
    "                    if board[2][c] == piece:\n",
    "                        return True\n",
    "            # Check Horizontal\n",
    "            if board[r][0] == piece:\n",
    "                if board[r][1] == piece:\n",
    "                    if board[r][2] == piece:\n",
    "                        return True\n",
    "            # Check Diagonal\n",
    "            if board[0][2] == piece:\n",
    "                if board[1][1] == piece:\n",
    "                    if board[2][0] == piece:\n",
    "                        return True\n",
    "            # Check Diagnal 2\n",
    "            if board[0][0] == piece:\n",
    "                if board[1][1] == piece:\n",
    "                    if board[2][2] == piece:\n",
    "                        return True\n",
    "           \n",
    "                "
   ]
  },
  {
   "cell_type": "code",
   "execution_count": 9,
   "metadata": {},
   "outputs": [],
   "source": [
    "def is_draw(board):\n",
    "     # Check Draw\n",
    "    if not 0 in board and is_winner(board, selection, piece):\n",
    "        return True"
   ]
  },
  {
   "cell_type": "code",
   "execution_count": 10,
   "metadata": {},
   "outputs": [],
   "source": [
    "# Needed Variables\n",
    "# Game over to end for loop\n",
    "# turn to determine which player1 or player2 \n",
    "# Function place piece \n",
    "# Function that checks valid location \n",
    "# Function that checks for winning move"
   ]
  },
  {
   "cell_type": "code",
   "execution_count": 11,
   "metadata": {},
   "outputs": [],
   "source": [
    "# Variables\n",
    "game_over = False"
   ]
  },
  {
   "cell_type": "code",
   "execution_count": 12,
   "metadata": {},
   "outputs": [],
   "source": [
    "board = create_board()"
   ]
  },
  {
   "cell_type": "code",
   "execution_count": 13,
   "metadata": {},
   "outputs": [],
   "source": [
    "turn = 0"
   ]
  },
  {
   "cell_type": "code",
   "execution_count": 14,
   "metadata": {},
   "outputs": [
    {
     "name": "stdout",
     "output_type": "stream",
     "text": [
      "[[0. 0. 0.]\n",
      " [0. 0. 0.]\n",
      " [0. 0. 0.]]\n",
      "Player 1 using Numpad pick a number (1-9): 1\n",
      "[[0. 0. 0.]\n",
      " [0. 0. 0.]\n",
      " [1. 0. 0.]]\n",
      "Player 2 using Numpad pick a number (1-9): 9\n",
      "[[0. 0. 2.]\n",
      " [0. 0. 0.]\n",
      " [1. 0. 0.]]\n",
      "Player 1 using Numpad pick a number (1-9): 6\n",
      "[[0. 0. 2.]\n",
      " [0. 0. 1.]\n",
      " [1. 0. 0.]]\n",
      "Player 2 using Numpad pick a number (1-9): 3\n",
      "[[0. 0. 2.]\n",
      " [0. 0. 1.]\n",
      " [1. 0. 2.]]\n",
      "Player 1 using Numpad pick a number (1-9): 5\n",
      "[[0. 0. 2.]\n",
      " [0. 1. 1.]\n",
      " [1. 0. 2.]]\n",
      "Player 2 using Numpad pick a number (1-9): 8\n",
      "[[0. 2. 2.]\n",
      " [0. 1. 1.]\n",
      " [1. 0. 2.]]\n",
      "Player 1 using Numpad pick a number (1-9): 4\n",
      "Player 1 You Win!\n",
      "[[0. 2. 2.]\n",
      " [1. 1. 1.]\n",
      " [1. 0. 2.]]\n",
      "Do you want to play again? YES or NO no\n",
      "GAME OVER\n",
      "[[0. 2. 2.]\n",
      " [1. 1. 1.]\n",
      " [1. 0. 2.]]\n"
     ]
    }
   ],
   "source": [
    "# Create Board\n",
    "\n",
    "print(board)\n",
    "\n",
    "\n",
    "# Main Game loop\n",
    "\n",
    "\n",
    "while not game_over:\n",
    "    # player turn logic\n",
    "    if turn == 0:\n",
    "        # Get player1 input\n",
    "        selection = int(input(\"Player 1 using Numpad pick a number (1-9): \"))\n",
    "        if is_valid_location(board, selection):\n",
    "            place_piece(board, selection, 1)\n",
    "            if is_winner(board, selection, 1):\n",
    "                print('Player 1 You Win!')\n",
    "                print(board)\n",
    "                replay_game = str(input('Do you want to play again? YES or NO '))\n",
    "                if replay_game.upper() == 'YES':\n",
    "                    turn = 1\n",
    "                    board = create_board()\n",
    "                    game_over = False\n",
    "                elif replay_game.upper() == 'NO':\n",
    "                    print('GAME OVER')\n",
    "                    game_over = True\n",
    "                else: \n",
    "                    print('Try Again!')\n",
    "            elif 0 not in board:\n",
    "                print('Game is a Draw')\n",
    "                print(board)\n",
    "                replay_game = str(input('Do you want to play again? YES or NO '))\n",
    "                if replay_game.upper() == 'YES':\n",
    "                    turn = 0\n",
    "                    board = create_board()\n",
    "                    game_over = False\n",
    "                elif replay_game.upper() == 'NO':\n",
    "                    print('GAME OVER')\n",
    "                    game_over = True\n",
    "                else: \n",
    "                    print('Try Again!')\n",
    "        else:\n",
    "            print('Try Again! ')\n",
    "            turn = 1\n",
    "    \n",
    "    \n",
    "    else:\n",
    "        # Get player2 input\n",
    "        selection = int(input(\"Player 2 using Numpad pick a number (1-9): \"))\n",
    "        if is_valid_location(board, selection):\n",
    "            place_piece(board, selection, 2)\n",
    "            if is_winner(board, selection, 2):\n",
    "                print('Player 2 You Win!')\n",
    "                print(board)\n",
    "                replay_game = str(input('Do you want to play again? YES or NO '))\n",
    "                if replay_game.upper() == 'YES':\n",
    "                    turn = 0\n",
    "                    board = create_board()\n",
    "                    game_over = False\n",
    "                elif replay_game.upper() == 'NO':\n",
    "                    print('GAME OVER')\n",
    "                    game_over = True\n",
    "                else: \n",
    "                    print('Try Again!')\n",
    "            elif 0 not in board:\n",
    "                print('Game is a Draw')\n",
    "                print(board)\n",
    "                replay_game = str(input('Do you want to play again? YES or NO '))\n",
    "                if replay_game.upper() == 'YES':\n",
    "                    turn = 0\n",
    "                    board = create_board()\n",
    "                    game_over = False\n",
    "                elif replay_game.upper() == 'NO':\n",
    "                    print('GAME OVER')\n",
    "                    game_over = True\n",
    "                else: \n",
    "                    print('Try Again!')\n",
    "        else:\n",
    "            print('Try Again! ')\n",
    "            turn = 0\n",
    "            \n",
    "    turn += 1\n",
    "    turn = turn % 2\n",
    "    print(board)\n",
    " "
   ]
  },
  {
   "cell_type": "code",
   "execution_count": null,
   "metadata": {},
   "outputs": [],
   "source": []
  }
 ],
 "metadata": {
  "kernelspec": {
   "display_name": "Python 3",
   "language": "python",
   "name": "python3"
  },
  "language_info": {
   "codemirror_mode": {
    "name": "ipython",
    "version": 3
   },
   "file_extension": ".py",
   "mimetype": "text/x-python",
   "name": "python",
   "nbconvert_exporter": "python",
   "pygments_lexer": "ipython3",
   "version": "3.7.6"
  }
 },
 "nbformat": 4,
 "nbformat_minor": 2
}
